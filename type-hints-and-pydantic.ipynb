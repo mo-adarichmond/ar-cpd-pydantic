{
 "cells": [
  {
   "cell_type": "markdown",
   "metadata": {},
   "source": [
    "### A journey into Python type hints and Pydantic\n",
    "\n",
    "* How gradual type hints are valuable even though they aren't enforced at runtime\n",
    "* Using `pydantic` so that type hints are respected both in development and at runtime"
   ]
  },
  {
   "cell_type": "code",
   "execution_count": 1,
   "metadata": {},
   "outputs": [],
   "source": [
    "raw_input = \"\"\"\n",
    "{\n",
    "    \"temperature\": {\n",
    "        \"long_name\": \"teeeeemperature\",\n",
    "        \"arity\": 12,\n",
    "        \"unit\": \"K\",\n",
    "        \"timesteps\": [\n",
    "            {\n",
    "                \"time\": \"2024-11-28T06:00:00\",\n",
    "                \"value\": 277\n",
    "            },\n",
    "            {\n",
    "                \"time\": \"2024-11-28T12:00:00\",\n",
    "                \"value\": 297.3213666577565674\n",
    "            }\n",
    "        ]\n",
    "    }\n",
    "}\n",
    "\"\"\""
   ]
  },
  {
   "cell_type": "code",
   "execution_count": 2,
   "metadata": {},
   "outputs": [
    {
     "data": {
      "text/plain": [
       "{'temperature': {'long_name': 'teeeeemperature',\n",
       "  'arity': 12,\n",
       "  'unit': 'K',\n",
       "  'timesteps': [{'time': '2024-11-28T06:00:00', 'value': 277},\n",
       "   {'time': '2024-11-28T12:00:00', 'value': 297.3213666577566}]}}"
      ]
     },
     "execution_count": 2,
     "metadata": {},
     "output_type": "execute_result"
    }
   ],
   "source": [
    "import json\n",
    "\n",
    "parameters = json.loads(raw_input)\n",
    "parameters  # parameters: Any"
   ]
  },
  {
   "cell_type": "code",
   "execution_count": 3,
   "metadata": {},
   "outputs": [
    {
     "data": {
      "text/plain": [
       "'teeeeemperature'"
      ]
     },
     "execution_count": 3,
     "metadata": {},
     "output_type": "execute_result"
    }
   ],
   "source": [
    "parameters['temperature']['long_name']  # : Any"
   ]
  },
  {
   "cell_type": "code",
   "execution_count": 4,
   "metadata": {},
   "outputs": [
    {
     "data": {
      "text/plain": [
       "'2024-11-28T06:00:00'"
      ]
     },
     "execution_count": 4,
     "metadata": {},
     "output_type": "execute_result"
    }
   ],
   "source": [
    "parameters['temperature']['timesteps'][0]['time']  # : Any"
   ]
  },
  {
   "cell_type": "code",
   "execution_count": 5,
   "metadata": {},
   "outputs": [
    {
     "data": {
      "text/plain": [
       "297.3213666577566"
      ]
     },
     "execution_count": 5,
     "metadata": {},
     "output_type": "execute_result"
    }
   ],
   "source": [
    "parameters['temperature']['timesteps'][1]['value']  # : Any"
   ]
  },
  {
   "cell_type": "code",
   "execution_count": 6,
   "metadata": {},
   "outputs": [
    {
     "name": "stdout",
     "output_type": "stream",
     "text": [
      "KeyError('notRealFieldName')\n"
     ]
    }
   ],
   "source": [
    "try:\n",
    "    parameters['temperature']['timesteps'][1]['notRealFieldName']  # : Any\n",
    "except KeyError as e:\n",
    "    print(repr(e))"
   ]
  },
  {
   "cell_type": "code",
   "execution_count": 7,
   "metadata": {},
   "outputs": [
    {
     "data": {
      "text/plain": [
       "{'temperature': {'long_name': 'teeeeemperature',\n",
       "  'arity': 12,\n",
       "  'unit': 'K',\n",
       "  'timesteps': [{'time': '2024-11-28T06:00:00', 'value': 277},\n",
       "   {'time': '2024-11-28T12:00:00', 'value': Decimal('297.3213666577565674')}]}}"
      ]
     },
     "execution_count": 7,
     "metadata": {},
     "output_type": "execute_result"
    }
   ],
   "source": [
    "from typing import Any\n",
    "from decimal import Decimal\n",
    "\n",
    "parameters: dict[str, Any] = json.loads(raw_input, parse_float=Decimal)\n",
    "parameters  # : dict[str, Any]"
   ]
  },
  {
   "cell_type": "code",
   "execution_count": 8,
   "metadata": {},
   "outputs": [
    {
     "name": "stdout",
     "output_type": "stream",
     "text": [
      "KeyError(0)\n"
     ]
    }
   ],
   "source": [
    "try:\n",
    "    print(parameters[0])  # \"Literal[0]\" is not assignable to \"str\"\n",
    "except KeyError as e:\n",
    "    print(repr(e))"
   ]
  },
  {
   "cell_type": "code",
   "execution_count": 9,
   "metadata": {},
   "outputs": [
    {
     "name": "stdout",
     "output_type": "stream",
     "text": [
      "AttributeError(\"'dict' object has no attribute 'temperature'\")\n"
     ]
    }
   ],
   "source": [
    "try:\n",
    "    print(parameters.temperature)  # Attribute \"temperature\" is unknown\n",
    "except AttributeError as e:\n",
    "    print(repr(e))"
   ]
  },
  {
   "cell_type": "code",
   "execution_count": 10,
   "metadata": {},
   "outputs": [
    {
     "name": "stdout",
     "output_type": "stream",
     "text": [
      "277 297.3213666577565674\n"
     ]
    }
   ],
   "source": [
    "temperature = parameters['temperature']  # temperature: Any\n",
    "timestep_one_value = temperature['timesteps'][0]['value']  # timestep_one_value: Any\n",
    "timestep_two_value = temperature['timesteps'][1]['value']  # timestep_two_value: Any\n",
    "print(timestep_one_value, timestep_two_value)"
   ]
  },
  {
   "cell_type": "code",
   "execution_count": 11,
   "metadata": {},
   "outputs": [
    {
     "data": {
      "text/plain": [
       "{'temperature': {'long_name': 'teeeeemperature',\n",
       "  'arity': 12,\n",
       "  'unit': 'K',\n",
       "  'timesteps': [{'time': '2024-11-28T06:00:00', 'value': 277},\n",
       "   {'time': '2024-11-28T12:00:00', 'value': Decimal('297.3213666577565674')}]}}"
      ]
     },
     "execution_count": 11,
     "metadata": {},
     "output_type": "execute_result"
    }
   ],
   "source": [
    "from typing import TypedDict, Union, Literal\n",
    "\n",
    "class Timestep(TypedDict):\n",
    "    time: str # but we wish it was a datetime\n",
    "    value: Union[int, Decimal]\n",
    "\n",
    "class Parameter(TypedDict):\n",
    "    long_name: str\n",
    "    arity: int\n",
    "    unit: Literal['K', 'mm/s', 'm']\n",
    "    timesteps: list[Timestep]\n",
    "\n",
    "parameters: dict[str, Parameter] = json.loads(raw_input, parse_float=Decimal)\n",
    "parameters  # parameters: dict[str, Parameter]"
   ]
  },
  {
   "cell_type": "code",
   "execution_count": 12,
   "metadata": {},
   "outputs": [
    {
     "data": {
      "text/plain": [
       "{'time': '2024-11-28T06:00:00', 'value': 277}"
      ]
     },
     "execution_count": 12,
     "metadata": {},
     "output_type": "execute_result"
    }
   ],
   "source": [
    "temp = parameters['temperature']  # temp: Parameter\n",
    "timestep_one = temp['timesteps'][0]  # timestep_one: Timestep\n",
    "timestep_one"
   ]
  },
  {
   "cell_type": "code",
   "execution_count": 13,
   "metadata": {},
   "outputs": [
    {
     "name": "stdout",
     "output_type": "stream",
     "text": [
      "KeyError('arity')\n"
     ]
    }
   ],
   "source": [
    "try:\n",
    "    arity = timestep_one['arity']  # \"arity\" is not a defined key in \"Timestep\"\n",
    "except KeyError as e:\n",
    "    print(repr(e))"
   ]
  },
  {
   "cell_type": "code",
   "execution_count": 14,
   "metadata": {},
   "outputs": [
    {
     "name": "stdout",
     "output_type": "stream",
     "text": [
      "isinstance(..., TypedDict) raises an exception\n",
      "isinstance(..., dict) True\n"
     ]
    }
   ],
   "source": [
    "try:\n",
    "    print(\"isinstance(..., Parameter)\", isinstance(timestep_one, Parameter))  # TypedDict class not allowed for instance or class checks\n",
    "    print(isinstance(timestep_one, TypedDict))  # TypedDict cannot be used for instance or class checks\n",
    "except TypeError:\n",
    "    print(\"isinstance(..., TypedDict) raises an exception\")\n",
    "print(\"isinstance(..., dict)\", isinstance(timestep_one, dict))"
   ]
  },
  {
   "cell_type": "code",
   "execution_count": 15,
   "metadata": {},
   "outputs": [],
   "source": [
    "from datetime import datetime\n",
    "\n",
    "class Timestep(TypedDict):\n",
    "    time: str # but we wish it was a datetime\n",
    "    value: Union[int, Decimal]\n",
    "\n",
    "    @property # error: TypedDict classes can contain only type annotations\n",
    "    def time_as_datetime(self):\n",
    "        return datetime.strptime(self.time, '%Y-%m-%dT%H:%M:%S')"
   ]
  },
  {
   "cell_type": "code",
   "execution_count": 16,
   "metadata": {},
   "outputs": [
    {
     "data": {
      "text/plain": [
       "Parameter(long_name='teeeeemperature', arity=12, unit='K', timesteps=[{'time': '2024-11-28T06:00:00', 'value': 277}, {'time': '2024-11-28T12:00:00', 'value': Decimal('297.3213666577565674')}])"
      ]
     },
     "execution_count": 16,
     "metadata": {},
     "output_type": "execute_result"
    }
   ],
   "source": [
    "from dataclasses import dataclass\n",
    "\n",
    "@dataclass\n",
    "class Timestep:\n",
    "    time: str  # but we wish it was a datetime\n",
    "    value: Union[int, Decimal]\n",
    "\n",
    "    @property\n",
    "    def time_as_datetime(self):\n",
    "        return datetime.strptime(self.time, '%Y-%m-%dT%H:%M:%S')\n",
    "\n",
    "@dataclass\n",
    "class Parameter:\n",
    "    long_name: str\n",
    "    arity: int\n",
    "    unit: Literal['K', 'mm/s', 'm']\n",
    "    timesteps: list[Timestep]\n",
    "\n",
    "parameters: dict[str, Parameter] = {\n",
    "    key: Parameter(**value)\n",
    "    for key, value in json.loads(raw_input, parse_float=Decimal).items()\n",
    "}\n",
    "temperature = parameters['temperature'] # temperature: Parameter\n",
    "temperature"
   ]
  },
  {
   "cell_type": "code",
   "execution_count": 17,
   "metadata": {},
   "outputs": [
    {
     "name": "stdout",
     "output_type": "stream",
     "text": [
      "{'time': '2024-11-28T06:00:00', 'value': 277}\n"
     ]
    }
   ],
   "source": [
    "timesteps = temperature.timesteps  # timesteps: list[Timestep]\n",
    "timestep_one = timesteps[0]  # timestep_one: Timestep\n",
    "print(timestep_one)"
   ]
  },
  {
   "cell_type": "code",
   "execution_count": 18,
   "metadata": {},
   "outputs": [
    {
     "name": "stdout",
     "output_type": "stream",
     "text": [
      "it's a dict, not a Timestep...\n"
     ]
    }
   ],
   "source": [
    "try:\n",
    "    print(timestep_one.time_as_datetime)  # timestep_one.time_as_datetime: datetime\n",
    "except AttributeError:\n",
    "    print(\"it's a dict, not a Timestep...\")"
   ]
  },
  {
   "cell_type": "code",
   "execution_count": 19,
   "metadata": {},
   "outputs": [
    {
     "name": "stdout",
     "output_type": "stream",
     "text": [
      "{'time': '2024-11-28T06:00:00', 'value': 277}\n",
      "this is complete nonsense but the type-checker has no idea\n"
     ]
    }
   ],
   "source": [
    "bad_raw_input = \"\"\"\n",
    "{\n",
    "    \"temperature\": {\n",
    "        \"long_name\": 32,\n",
    "        \"arity\": true,\n",
    "        \"unit\": \"kg\",\n",
    "        \"timesteps\": [\"first\", \"second\"]\n",
    "    }\n",
    "}\n",
    "\"\"\"\n",
    "\n",
    "bad_parameters: dict[str, Parameter] = {\n",
    "    key: Parameter(**value)\n",
    "    for key, value in json.loads(bad_raw_input, parse_float=Decimal).items()\n",
    "}\n",
    "bad_temperature = bad_parameters['temperature']  # bad_parameter: Parameter\n",
    "bad_timesteps = bad_temperature.timesteps  # bad_timesteps: list[Timestep]\n",
    "bad_timestep_one = timesteps[0]  # bad_timestep_one: Timestep\n",
    "print(bad_timestep_one)\n",
    "print(\"this is complete nonsense but the type-checker has no idea\")"
   ]
  },
  {
   "cell_type": "code",
   "execution_count": 20,
   "metadata": {},
   "outputs": [
    {
     "data": {
      "text/plain": [
       "{'long_name': str,\n",
       " 'arity': int,\n",
       " 'unit': typing.Literal['K', 'mm/s', 'm'],\n",
       " 'timesteps': list[__main__.Timestep]}"
      ]
     },
     "execution_count": 20,
     "metadata": {},
     "output_type": "execute_result"
    }
   ],
   "source": [
    "Parameter.__annotations__\n",
    "# Parameter.__dataclass_fields__ is similar but includes whatever field(...) specifies"
   ]
  },
  {
   "cell_type": "code",
   "execution_count": 21,
   "metadata": {},
   "outputs": [
    {
     "name": "stdout",
     "output_type": "stream",
     "text": [
      "ValueError('long_name', 32)\n"
     ]
    }
   ],
   "source": [
    "def validate_dataclass_instance(instance: Any) -> None:\n",
    "    \"\"\"\n",
    "    FOR DEMONSTRATION PURPOSES ONLY\n",
    "    PLEASE DO NOT ACTUALLY DO ANYTHING LIKE THIS\n",
    "    \"\"\"\n",
    "    for key, field in instance.__dataclass_fields__.items():\n",
    "        value = getattr(instance, key)\n",
    "        if not isinstance(value, field.type):\n",
    "            raise ValueError(key, value)\n",
    "        # ... handle generic types like list[T] ...\n",
    "        # ... detect collections and recurse into them ...\n",
    "        # ... allow either value if the type is a Union ...\n",
    "        # ... a truly obscene repetoire of edge cases to detect and handle\n",
    "\n",
    "try:\n",
    "    validate_dataclass_instance(bad_temperature)\n",
    "except ValueError as e:\n",
    "    print(repr(e))"
   ]
  },
  {
   "cell_type": "code",
   "execution_count": 22,
   "metadata": {},
   "outputs": [
    {
     "data": {
      "text/plain": [
       "Parameter(long_name='teeeeemperature', arity=12, unit='K', timesteps=[Timestep(time='2024-11-28T06:00:00', value=277), Timestep(time='2024-11-28T12:00:00', value=Decimal('297.3213666577566'))])"
      ]
     },
     "execution_count": 22,
     "metadata": {},
     "output_type": "execute_result"
    }
   ],
   "source": [
    "import pydantic\n",
    "\n",
    "class Timestep(pydantic.BaseModel):\n",
    "    time: str  # but we wish it was a datetime\n",
    "    value: Union[int, Decimal]\n",
    "\n",
    "    @property\n",
    "    def time_as_datetime(self):\n",
    "        return datetime.strptime(self.time, '%Y-%m-%dT%H:%M:%S')\n",
    "\n",
    "class Parameter(pydantic.BaseModel):\n",
    "    long_name: str\n",
    "    arity: int\n",
    "    unit: Literal['K', 'mm/s', 'm']\n",
    "    timesteps: list[Timestep]\n",
    "\n",
    "# we need an adapter when the root is a dict or list\n",
    "# https://docs.pydantic.dev/2.10/concepts/type_adapter/\n",
    "parameters_adapter = pydantic.TypeAdapter(dict[str, Parameter])\n",
    "\n",
    "parameters = parameters_adapter.validate_json(raw_input)\n",
    "temperature = parameters['temperature']  # temperature: Parameter\n",
    "temperature"
   ]
  },
  {
   "cell_type": "code",
   "execution_count": 23,
   "metadata": {},
   "outputs": [
    {
     "data": {
      "text/plain": [
       "datetime.datetime(2024, 11, 28, 6, 0)"
      ]
     },
     "execution_count": 23,
     "metadata": {},
     "output_type": "execute_result"
    }
   ],
   "source": [
    "temperature.timesteps[0].time_as_datetime  # : datetime"
   ]
  },
  {
   "cell_type": "code",
   "execution_count": 24,
   "metadata": {},
   "outputs": [
    {
     "name": "stdout",
     "output_type": "stream",
     "text": [
      "4 validation errors for dict[str,Parameter]\n",
      "temperature.long_name\n",
      "  Input should be a valid string [type=string_type, input_value=32, input_type=int]\n",
      "    For further information visit https://errors.pydantic.dev/2.10/v/string_type\n",
      "temperature.unit\n",
      "  Input should be 'K', 'mm/s' or 'm' [type=literal_error, input_value='kg', input_type=str]\n",
      "    For further information visit https://errors.pydantic.dev/2.10/v/literal_error\n",
      "temperature.timesteps.0\n",
      "  Input should be an object [type=model_type, input_value='first', input_type=str]\n",
      "    For further information visit https://errors.pydantic.dev/2.10/v/model_type\n",
      "temperature.timesteps.1\n",
      "  Input should be an object [type=model_type, input_value='second', input_type=str]\n",
      "    For further information visit https://errors.pydantic.dev/2.10/v/model_type\n"
     ]
    }
   ],
   "source": [
    "try:\n",
    "    parameters = parameters_adapter.validate_json(bad_raw_input)\n",
    "except pydantic.ValidationError as e:\n",
    "    print(repr(e))"
   ]
  },
  {
   "cell_type": "code",
   "execution_count": 25,
   "metadata": {},
   "outputs": [
    {
     "data": {
      "text/plain": [
       "Parameter(long_name='teeeeemperature', arity=12, unit=<UnitEnum.DEGREES_KELVIN: 'K'>, timesteps=[Timestep(time=datetime.datetime(2024, 11, 28, 6, 0), value=Decimal('277')), Timestep(time=datetime.datetime(2024, 11, 28, 12, 0), value=Decimal('297.3213666577566'))])"
      ]
     },
     "execution_count": 25,
     "metadata": {},
     "output_type": "execute_result"
    }
   ],
   "source": [
    "from enum import Enum\n",
    "from typing import Annotated\n",
    "\n",
    "class Timestep(pydantic.BaseModel):\n",
    "    time: datetime  # strs will be converted to datetime if possible\n",
    "    value: Decimal  # ints will be converted to Decimal\n",
    "\n",
    "class UnitEnum(str, Enum):\n",
    "    DEGREES_KELVIN = 'K'\n",
    "    MILLIMETRES_PER_SECOND = 'mm/s'\n",
    "    METRES = 'm'\n",
    "\n",
    "def timesteps_in_order(timesteps: list[Timestep]) -> list[Timestep]:\n",
    "    \"\"\"Validates that the Timesteps are in ascending temporal order\"\"\"\n",
    "    times = [step.time for step in timesteps]\n",
    "    if sorted(times) != times:\n",
    "        raise ValueError(f'Step times {times} are not in ascending order')\n",
    "    return timesteps\n",
    "    # or return sorted(timesteps, key=lambda ts: ts.time)\n",
    "\n",
    "class Parameter(pydantic.BaseModel):\n",
    "    long_name: Annotated[str, pydantic.StringConstraints(max_length=25)]  # validates string length\n",
    "    arity: pydantic.PositiveInt  # validates arity > 0\n",
    "    unit: UnitEnum  # validates unit is in the Enum, and converts it to an Enum value\n",
    "    timesteps: Annotated[list[Timestep], pydantic.AfterValidator(timesteps_in_order)]\n",
    "\n",
    "parameters_adapter = pydantic.TypeAdapter(dict[str, Parameter])\n",
    "parameters = parameters_adapter.validate_json(raw_input)\n",
    "temperature = parameters['temperature']  # temperature: Parameter\n",
    "temperature"
   ]
  },
  {
   "cell_type": "code",
   "execution_count": 26,
   "metadata": {},
   "outputs": [
    {
     "name": "stdout",
     "output_type": "stream",
     "text": [
      "1 validation error for Parameter\n",
      "arity\n",
      "  Input should be a valid integer, unable to parse string as an integer [type=int_parsing, input_value='parity', input_type=str]\n",
      "    For further information visit https://errors.pydantic.dev/2.10/v/int_parsing\n"
     ]
    }
   ],
   "source": [
    "try:\n",
    "    direct_temperature = Parameter(long_name='temperature', arity='parity', unit=UnitEnum.DEGREES_KELVIN, timesteps=[])  # \"Literal['parity']\" is not assignable to \"int\"\n",
    "except pydantic.ValidationError as e:\n",
    "    print(e)\n",
    "else:\n",
    "    print(direct_temperature)"
   ]
  },
  {
   "cell_type": "code",
   "execution_count": 27,
   "metadata": {},
   "outputs": [
    {
     "name": "stdout",
     "output_type": "stream",
     "text": [
      "1 validation error for Parameter\n",
      "long_name\n",
      "  String should have at most 25 characters [type=string_too_long, input_value='temperature_but_just_way_too_long_for_anyone', input_type=str]\n",
      "    For further information visit https://errors.pydantic.dev/2.10/v/string_too_long\n"
     ]
    }
   ],
   "source": [
    "try:\n",
    "    direct_temperature = Parameter(long_name=\"temperature_but_just_way_too_long_for_anyone\", arity=3, unit=UnitEnum.DEGREES_KELVIN, timesteps=[])\n",
    "except pydantic.ValidationError as e:\n",
    "    print(e)"
   ]
  },
  {
   "cell_type": "code",
   "execution_count": 28,
   "metadata": {},
   "outputs": [
    {
     "name": "stdout",
     "output_type": "stream",
     "text": [
      "1 validation error for Parameter\n",
      "timesteps\n",
      "  Value error, Step times [datetime.datetime(2025, 1, 29, 20, 25, 12, 630854), datetime.datetime(2025, 1, 29, 20, 20, 12, 630854)] are not in ascending order [type=value_error, input_value=[Timestep(time=datetime.d...4), value=Decimal('4'))], input_type=list]\n",
      "    For further information visit https://errors.pydantic.dev/2.10/v/value_error\n"
     ]
    }
   ],
   "source": [
    "from datetime import timedelta\n",
    "\n",
    "timesteps = [\n",
    "    Timestep(time=datetime.now(), value=Decimal(3)),\n",
    "    Timestep(time=datetime.now() - timedelta(minutes=5), value=Decimal(4))\n",
    "]\n",
    "try:\n",
    "    direct_temperature = Parameter(long_name=\"temperature\", arity=3, unit=UnitEnum.DEGREES_KELVIN, timesteps=timesteps)\n",
    "except pydantic.ValidationError as e:\n",
    "    print(e)"
   ]
  },
  {
   "cell_type": "code",
   "execution_count": 29,
   "metadata": {},
   "outputs": [
    {
     "name": "stdout",
     "output_type": "stream",
     "text": [
      "{\n",
      "    \"long_name\": \"teeeeemperature\",\n",
      "    \"arity\": 12,\n",
      "    \"unit\": \"K\",\n",
      "    \"timesteps\": [\n",
      "        {\n",
      "            \"time\": \"2024-11-28T06:00:00\",\n",
      "            \"value\": \"277\"\n",
      "        },\n",
      "        {\n",
      "            \"time\": \"2024-11-28T12:00:00\",\n",
      "            \"value\": \"297.3213666577566\"\n",
      "        }\n",
      "    ]\n",
      "}\n"
     ]
    }
   ],
   "source": [
    "print(temperature.model_dump_json(indent=4))"
   ]
  },
  {
   "cell_type": "code",
   "execution_count": 30,
   "metadata": {},
   "outputs": [
    {
     "name": "stdout",
     "output_type": "stream",
     "text": [
      "we can trash the pydantic Model instance at runtime: True\n"
     ]
    }
   ],
   "source": [
    "temperature = parameters['temperature']\n",
    "temperature.long_name = 3  # \"Literal[3]\" is not assignable to \"str\"\n",
    "print(\"we can trash the pydantic Model instance at runtime:\", temperature.long_name == 3)"
   ]
  },
  {
   "cell_type": "code",
   "execution_count": 31,
   "metadata": {},
   "outputs": [
    {
     "name": "stdout",
     "output_type": "stream",
     "text": [
      "1 validation error for Parameter\n",
      "long_name\n",
      "  Instance is frozen [type=frozen_instance, input_value=3, input_type=int]\n",
      "    For further information visit https://errors.pydantic.dev/2.10/v/frozen_instance\n"
     ]
    }
   ],
   "source": [
    "class Parameter(pydantic.BaseModel):\n",
    "    # specifying a model_config \n",
    "    # https://docs.pydantic.dev/2.10/api/config/\n",
    "    model_config = pydantic.ConfigDict(frozen=True)\n",
    "\n",
    "    long_name: Annotated[str, pydantic.StringConstraints(max_length=25)]  # validates string length\n",
    "    arity: pydantic.PositiveInt  # validates arity > 0\n",
    "    unit: UnitEnum  # validates unit is in the Enum, and converts it to an Enum value\n",
    "    timesteps: Annotated[list[Timestep], pydantic.AfterValidator(timesteps_in_order)]\n",
    "\n",
    "parameters_adapter = pydantic.TypeAdapter(dict[str, Parameter])\n",
    "parameters = parameters_adapter.validate_json(raw_input)\n",
    "temperature = parameters['temperature']\n",
    "try:\n",
    "    temperature.long_name = 3\n",
    "except pydantic.ValidationError as e:\n",
    "    print(repr(e))"
   ]
  },
  {
   "cell_type": "markdown",
   "metadata": {},
   "source": [
    "### Other cool things to do with Pydantic\n",
    "\n",
    "- Using an [`alias_generator`](https://docs.pydantic.dev/latest/api/config/#pydantic.config.ConfigDict.alias_generator) so that our JSON fields are consistently `camelCase` but our Python model fields are `snake_case`\n",
    "- Implementing HTTP APIs with [`FastAPI`](https://fastapi.tiangolo.com/), in which `pydantic` fuels request deserialisation and validation, response (and error) serialisation, JSON schema generation, all from type hints\n",
    "- `pydantic` supports [Generic models](https://docs.pydantic.dev/2.10/concepts/models/#generic-models), but as with all generics, think very hard before opening this can of worms\n",
    "\n",
    "Read the documentation, find out what's possible!"
   ]
  },
  {
   "cell_type": "markdown",
   "metadata": {},
   "source": [
    "### Bonus section: sometimes NamedTuple is all you need"
   ]
  },
  {
   "cell_type": "code",
   "execution_count": 32,
   "metadata": {},
   "outputs": [
    {
     "name": "stdout",
     "output_type": "stream",
     "text": [
      "Timestep(time=datetime.datetime(2025, 1, 29, 20, 25, 12, 702006), value=Decimal('297.3213666577565674'))\n",
      "2025-01-29 20:25:12.702006\n"
     ]
    }
   ],
   "source": [
    "# Let us not forget the humble but formidable NamedTuple:\n",
    "from typing import NamedTuple\n",
    "\n",
    "class Timestep(NamedTuple):\n",
    "    time: datetime\n",
    "    value: Decimal\n",
    "\n",
    "timestep = Timestep(time=datetime.now(), value=Decimal('297.3213666577565674'))\n",
    "\n",
    "print(timestep)\n",
    "print(timestep.time)"
   ]
  },
  {
   "cell_type": "code",
   "execution_count": 33,
   "metadata": {},
   "outputs": [
    {
     "name": "stdout",
     "output_type": "stream",
     "text": [
      "AttributeError(\"can't set attribute\")\n"
     ]
    }
   ],
   "source": [
    "try:\n",
    "    timestep.time = datetime.now()\n",
    "except AttributeError as e:\n",
    "    print(repr(e))"
   ]
  }
 ],
 "metadata": {
  "kernelspec": {
   "display_name": ".venv",
   "language": "python",
   "name": "python3"
  },
  "language_info": {
   "codemirror_mode": {
    "name": "ipython",
    "version": 3
   },
   "file_extension": ".py",
   "mimetype": "text/x-python",
   "name": "python",
   "nbconvert_exporter": "python",
   "pygments_lexer": "ipython3",
   "version": "3.9.13"
  }
 },
 "nbformat": 4,
 "nbformat_minor": 2
}
